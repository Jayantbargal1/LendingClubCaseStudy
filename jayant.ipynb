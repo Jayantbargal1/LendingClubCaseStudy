{
 "cells": [
  {
   "cell_type": "code",
   "execution_count": 27,
   "id": "f2a69ac8",
   "metadata": {},
   "outputs": [
    {
     "name": "stdout",
     "output_type": "stream",
     "text": [
      "Total 5627\n",
      "Purpose: debt Consolidation:2767\n",
      "Do not have own home:5184\n"
     ]
    }
   ],
   "source": [
    "import pandas as pd\n",
    "import numpy as np\n",
    "data = pd.read_csv('loan.csv')\n",
    "#ignore the loan status as current from the data set\n",
    "data = data[data['loan_status']!='Current']\n",
    "#Filter data for Charged off loans\n",
    "data = data[data['loan_status']=='Charged Off']\n",
    "#50 % of time if purpose is debt_consolidation then the loan was charged off\n",
    "#so its almost 50% of chances that person having this purpose may not repay, rejection candidate\n",
    "data1 = data[data['purpose']=='debt_consolidation']\n",
    "#If home ownership is not own, then high chances of charged off, Reject the loan\n",
    "data2 = data[data['home_ownership']!='OWN']\n",
    "\n",
    "\n",
    "print(\"Total\"+ \" \"+str(len(data)))\n",
    "print(\"Purpose: debt Consolidation:\"+str(len(data1)))\n",
    "print(\"Do not have own home:\"+str(len(data2)))\n"
   ]
  },
  {
   "cell_type": "code",
   "execution_count": null,
   "id": "439b44f7",
   "metadata": {},
   "outputs": [],
   "source": []
  },
  {
   "cell_type": "code",
   "execution_count": null,
   "id": "1bf84a1e",
   "metadata": {},
   "outputs": [],
   "source": []
  }
 ],
 "metadata": {
  "kernelspec": {
   "display_name": "Python 3 (ipykernel)",
   "language": "python",
   "name": "python3"
  },
  "language_info": {
   "codemirror_mode": {
    "name": "ipython",
    "version": 3
   },
   "file_extension": ".py",
   "mimetype": "text/x-python",
   "name": "python",
   "nbconvert_exporter": "python",
   "pygments_lexer": "ipython3",
   "version": "3.9.7"
  }
 },
 "nbformat": 4,
 "nbformat_minor": 5
}
